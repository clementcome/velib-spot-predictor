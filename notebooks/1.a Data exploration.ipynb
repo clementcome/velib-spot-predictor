{
 "cells": [
  {
   "cell_type": "code",
   "execution_count": null,
   "metadata": {},
   "outputs": [],
   "source": [
    "import pandas as pd\n",
    "import seaborn as sns\n",
    "import plotly.express as px\n",
    "import geopandas as gpd\n",
    "import folium\n",
    "from folium.plugins import MarkerCluster"
   ]
  },
  {
   "cell_type": "code",
   "execution_count": null,
   "metadata": {},
   "outputs": [],
   "source": [
    "velib_path = \"../data/interim/data_20230902.pkl\""
   ]
  },
  {
   "cell_type": "code",
   "execution_count": null,
   "metadata": {},
   "outputs": [],
   "source": [
    "velib_df = pd.read_pickle(velib_path)\n",
    "# velib_df = velib_df.set_index(\"datetime\").sort_index()\n",
    "velib_df = velib_df.sort_values(by=[\"datetime\", \"station_id\"])"
   ]
  },
  {
   "cell_type": "code",
   "execution_count": null,
   "metadata": {},
   "outputs": [],
   "source": [
    "velib_df.columns"
   ]
  },
  {
   "cell_type": "code",
   "execution_count": null,
   "metadata": {},
   "outputs": [],
   "source": [
    "velib_gdf = gpd.GeoDataFrame(\n",
    "    velib_df, geometry=gpd.points_from_xy(x=velib_df[\"lon\"], y=velib_df[\"lat\"])\n",
    ")"
   ]
  },
  {
   "cell_type": "code",
   "execution_count": null,
   "metadata": {},
   "outputs": [],
   "source": [
    "douzieme_shp = gpd.read_file(\"../data/external/douzieme_polygon.shx\")"
   ]
  },
  {
   "cell_type": "code",
   "execution_count": null,
   "metadata": {},
   "outputs": [],
   "source": [
    "sim_geo = gpd.GeoSeries(douzieme_shp.loc[0, \"geometry\"]).simplify(\n",
    "    tolerance=0.001\n",
    ")\n",
    "geo_j = sim_geo.to_json()\n",
    "geo_j = folium.GeoJson(data=geo_j)"
   ]
  },
  {
   "cell_type": "code",
   "execution_count": null,
   "metadata": {},
   "outputs": [],
   "source": [
    "# velib_gdf.iloc[:100].plot(column=\"num_bikes_available\", legend=True)"
   ]
  },
  {
   "cell_type": "code",
   "execution_count": null,
   "metadata": {},
   "outputs": [],
   "source": [
    "station_geo_info = velib_gdf[~velib_gdf[\"station_id\"].duplicated(keep=\"last\")]\n",
    "station_geo_info = station_geo_info[\n",
    "    station_geo_info[\"geometry\"].within(douzieme_shp.loc[0, \"geometry\"])\n",
    "]\n",
    "marker_list = []\n",
    "for idx, row in station_geo_info.iterrows():\n",
    "    if row.geometry.is_empty:\n",
    "        continue\n",
    "    marker = folium.Marker(\n",
    "        location=(row.geometry.y, row.geometry.x),\n",
    "        popup=f\"\"\"Nom de la station: {row[\"name\"]}\n",
    "        <br>Nombre de vélos disponibles: {row[\"num_bikes_available\"]}\n",
    "        <br>Nombre de places disponibles: {row[\"num_docks_available\"]}\n",
    "        <br>Id de la station: {row[\"station_id\"]}\"\"\",\n",
    "        tooltip=row[\"name\"],\n",
    "    )\n",
    "    marker_list.append(marker)"
   ]
  },
  {
   "cell_type": "code",
   "execution_count": null,
   "metadata": {},
   "outputs": [],
   "source": [
    "paris_center = [48.862, 2.346]\n",
    "paris = folium.Map(location=paris_center, zoom_start=12)\n",
    "marker_cluster = MarkerCluster().add_to(paris)\n",
    "for marker in marker_list:\n",
    "    marker.add_to(marker_cluster)\n",
    "\n",
    "geo_j.add_to(paris)\n",
    "paris"
   ]
  },
  {
   "cell_type": "code",
   "execution_count": null,
   "metadata": {},
   "outputs": [],
   "source": [
    "def plot_single_station(station_id):\n",
    "    station_df = velib_df[velib_df[\"station_id\"] == station_id]\n",
    "    fig = px.line(station_df, x=\"datetime\", y=\"num_bikes_available\")\n",
    "    fig.update_layout(title=f\"Station {station_id}\")\n",
    "    fig.show()"
   ]
  },
  {
   "cell_type": "code",
   "execution_count": null,
   "metadata": {},
   "outputs": [],
   "source": [
    "plot_single_station(124183944)"
   ]
  },
  {
   "cell_type": "code",
   "execution_count": null,
   "metadata": {},
   "outputs": [],
   "source": [
    "velib_df[\"use_rate\"] = velib_df[\"num_bikes_available\"] / velib_df[\"capacity\"]"
   ]
  },
  {
   "cell_type": "code",
   "execution_count": null,
   "metadata": {},
   "outputs": [],
   "source": [
    "station_name_list = velib_df[\"name\"].drop_duplicates()"
   ]
  },
  {
   "cell_type": "code",
   "execution_count": null,
   "metadata": {},
   "outputs": [],
   "source": [
    "gare_station_name_list = station_name_list[\n",
    "    station_name_list.str.contains(\"Gare\").fillna(False)\n",
    "]"
   ]
  },
  {
   "cell_type": "code",
   "execution_count": null,
   "metadata": {},
   "outputs": [],
   "source": [
    "print(velib_df.shape)\n",
    "velib_df.head()"
   ]
  },
  {
   "cell_type": "code",
   "execution_count": null,
   "metadata": {},
   "outputs": [],
   "source": [
    "# px.line(velib_df[velib_df[\"name\"].isin(gare_station_name_list.iloc[:10])], x=\"datetime\", y=\"use_rate\", color=\"name\")"
   ]
  },
  {
   "cell_type": "code",
   "execution_count": null,
   "metadata": {},
   "outputs": [],
   "source": [
    "velib_df"
   ]
  }
 ],
 "metadata": {
  "kernelspec": {
   "display_name": "Python 3 (ipykernel)",
   "language": "python",
   "name": "python3"
  },
  "language_info": {
   "codemirror_mode": {
    "name": "ipython",
    "version": 3
   },
   "file_extension": ".py",
   "mimetype": "text/x-python",
   "name": "python",
   "nbconvert_exporter": "python",
   "pygments_lexer": "ipython3",
   "version": "3.9.17"
  }
 },
 "nbformat": 4,
 "nbformat_minor": 4
}
