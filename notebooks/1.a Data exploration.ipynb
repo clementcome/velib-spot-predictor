{
 "cells": [
  {
   "cell_type": "code",
   "execution_count": 1,
   "metadata": {},
   "outputs": [],
   "source": [
    "import pandas as pd"
   ]
  },
  {
   "cell_type": "code",
   "execution_count": 2,
   "metadata": {},
   "outputs": [],
   "source": [
    "velib_path = \"../data/raw/velib-disponibilite-en-temps-reel.csv\""
   ]
  },
  {
   "cell_type": "code",
   "execution_count": 5,
   "metadata": {},
   "outputs": [],
   "source": [
    "velib_df = pd.read_csv(velib_path, sep=\";\")"
   ]
  },
  {
   "cell_type": "code",
   "execution_count": 7,
   "metadata": {},
   "outputs": [
    {
     "name": "stdout",
     "output_type": "stream",
     "text": [
      "(1471, 14)\n"
     ]
    },
    {
     "data": {
      "text/html": [
       "<div>\n",
       "<style scoped>\n",
       "    .dataframe tbody tr th:only-of-type {\n",
       "        vertical-align: middle;\n",
       "    }\n",
       "\n",
       "    .dataframe tbody tr th {\n",
       "        vertical-align: top;\n",
       "    }\n",
       "\n",
       "    .dataframe thead th {\n",
       "        text-align: right;\n",
       "    }\n",
       "</style>\n",
       "<table border=\"1\" class=\"dataframe\">\n",
       "  <thead>\n",
       "    <tr style=\"text-align: right;\">\n",
       "      <th></th>\n",
       "      <th>Identifiant station</th>\n",
       "      <th>Nom station</th>\n",
       "      <th>Station en fonctionnement</th>\n",
       "      <th>Capacité de la station</th>\n",
       "      <th>Nombre bornettes libres</th>\n",
       "      <th>Nombre total vélos disponibles</th>\n",
       "      <th>Vélos mécaniques disponibles</th>\n",
       "      <th>Vélos électriques disponibles</th>\n",
       "      <th>Borne de paiement disponible</th>\n",
       "      <th>Retour vélib possible</th>\n",
       "      <th>Actualisation de la donnée</th>\n",
       "      <th>Coordonnées géographiques</th>\n",
       "      <th>Nom communes équipées</th>\n",
       "      <th>Code INSEE communes équipées</th>\n",
       "    </tr>\n",
       "  </thead>\n",
       "  <tbody>\n",
       "    <tr>\n",
       "      <th>0</th>\n",
       "      <td>12109</td>\n",
       "      <td>Mairie du 12ème</td>\n",
       "      <td>OUI</td>\n",
       "      <td>30</td>\n",
       "      <td>1</td>\n",
       "      <td>29</td>\n",
       "      <td>26</td>\n",
       "      <td>3</td>\n",
       "      <td>OUI</td>\n",
       "      <td>OUI</td>\n",
       "      <td>2023-08-30T23:18:17+02:00</td>\n",
       "      <td>48.840855311763, 2.3875549435616</td>\n",
       "      <td>Paris</td>\n",
       "      <td>NaN</td>\n",
       "    </tr>\n",
       "    <tr>\n",
       "      <th>1</th>\n",
       "      <td>16107</td>\n",
       "      <td>Benjamin Godard - Victor Hugo</td>\n",
       "      <td>OUI</td>\n",
       "      <td>35</td>\n",
       "      <td>31</td>\n",
       "      <td>1</td>\n",
       "      <td>1</td>\n",
       "      <td>0</td>\n",
       "      <td>OUI</td>\n",
       "      <td>OUI</td>\n",
       "      <td>2023-08-30T23:16:52+02:00</td>\n",
       "      <td>48.865983, 2.275725</td>\n",
       "      <td>Paris</td>\n",
       "      <td>NaN</td>\n",
       "    </tr>\n",
       "    <tr>\n",
       "      <th>2</th>\n",
       "      <td>8026</td>\n",
       "      <td>Messine - Place Du Pérou</td>\n",
       "      <td>OUI</td>\n",
       "      <td>12</td>\n",
       "      <td>10</td>\n",
       "      <td>2</td>\n",
       "      <td>2</td>\n",
       "      <td>0</td>\n",
       "      <td>OUI</td>\n",
       "      <td>OUI</td>\n",
       "      <td>2023-08-30T23:14:12+02:00</td>\n",
       "      <td>48.875448033960744, 2.315508019010038</td>\n",
       "      <td>Paris</td>\n",
       "      <td>NaN</td>\n",
       "    </tr>\n",
       "    <tr>\n",
       "      <th>3</th>\n",
       "      <td>31104</td>\n",
       "      <td>Mairie de Rosny-sous-Bois</td>\n",
       "      <td>OUI</td>\n",
       "      <td>30</td>\n",
       "      <td>7</td>\n",
       "      <td>23</td>\n",
       "      <td>5</td>\n",
       "      <td>18</td>\n",
       "      <td>OUI</td>\n",
       "      <td>OUI</td>\n",
       "      <td>2023-08-30T23:19:00+02:00</td>\n",
       "      <td>48.871256519012, 2.4865807592869</td>\n",
       "      <td>Rosny-sous-Bois</td>\n",
       "      <td>NaN</td>\n",
       "    </tr>\n",
       "    <tr>\n",
       "      <th>4</th>\n",
       "      <td>13007</td>\n",
       "      <td>Le Brun - Gobelins</td>\n",
       "      <td>OUI</td>\n",
       "      <td>48</td>\n",
       "      <td>21</td>\n",
       "      <td>24</td>\n",
       "      <td>12</td>\n",
       "      <td>12</td>\n",
       "      <td>OUI</td>\n",
       "      <td>OUI</td>\n",
       "      <td>2023-08-30T23:19:38+02:00</td>\n",
       "      <td>48.835092787824, 2.3534681351338</td>\n",
       "      <td>Paris</td>\n",
       "      <td>NaN</td>\n",
       "    </tr>\n",
       "  </tbody>\n",
       "</table>\n",
       "</div>"
      ],
      "text/plain": [
       "   Identifiant station                    Nom station  \\\n",
       "0                12109                Mairie du 12ème   \n",
       "1                16107  Benjamin Godard - Victor Hugo   \n",
       "2                 8026       Messine - Place Du Pérou   \n",
       "3                31104      Mairie de Rosny-sous-Bois   \n",
       "4                13007             Le Brun - Gobelins   \n",
       "\n",
       "  Station en fonctionnement  Capacité de la station  Nombre bornettes libres  \\\n",
       "0                       OUI                      30                        1   \n",
       "1                       OUI                      35                       31   \n",
       "2                       OUI                      12                       10   \n",
       "3                       OUI                      30                        7   \n",
       "4                       OUI                      48                       21   \n",
       "\n",
       "   Nombre total vélos disponibles  Vélos mécaniques disponibles  \\\n",
       "0                              29                            26   \n",
       "1                               1                             1   \n",
       "2                               2                             2   \n",
       "3                              23                             5   \n",
       "4                              24                            12   \n",
       "\n",
       "   Vélos électriques disponibles Borne de paiement disponible  \\\n",
       "0                              3                          OUI   \n",
       "1                              0                          OUI   \n",
       "2                              0                          OUI   \n",
       "3                             18                          OUI   \n",
       "4                             12                          OUI   \n",
       "\n",
       "  Retour vélib possible Actualisation de la donnée  \\\n",
       "0                   OUI  2023-08-30T23:18:17+02:00   \n",
       "1                   OUI  2023-08-30T23:16:52+02:00   \n",
       "2                   OUI  2023-08-30T23:14:12+02:00   \n",
       "3                   OUI  2023-08-30T23:19:00+02:00   \n",
       "4                   OUI  2023-08-30T23:19:38+02:00   \n",
       "\n",
       "               Coordonnées géographiques Nom communes équipées  \\\n",
       "0       48.840855311763, 2.3875549435616                 Paris   \n",
       "1                    48.865983, 2.275725                 Paris   \n",
       "2  48.875448033960744, 2.315508019010038                 Paris   \n",
       "3       48.871256519012, 2.4865807592869       Rosny-sous-Bois   \n",
       "4       48.835092787824, 2.3534681351338                 Paris   \n",
       "\n",
       "   Code INSEE communes équipées  \n",
       "0                           NaN  \n",
       "1                           NaN  \n",
       "2                           NaN  \n",
       "3                           NaN  \n",
       "4                           NaN  "
      ]
     },
     "execution_count": 7,
     "metadata": {},
     "output_type": "execute_result"
    }
   ],
   "source": [
    "print(velib_df.shape)\n",
    "velib_df.head()"
   ]
  },
  {
   "cell_type": "code",
   "execution_count": 12,
   "metadata": {},
   "outputs": [
    {
     "data": {
      "text/plain": [
       "count\n",
       "1    1471\n",
       "Name: count, dtype: int64"
      ]
     },
     "execution_count": 12,
     "metadata": {},
     "output_type": "execute_result"
    }
   ],
   "source": [
    "velib_df[\"Identifiant station\"].value_counts().value_counts()"
   ]
  }
 ],
 "metadata": {
  "kernelspec": {
   "display_name": "velib-spot-predictor-YoAJKglu-py3.9",
   "language": "python",
   "name": "python3"
  },
  "language_info": {
   "codemirror_mode": {
    "name": "ipython",
    "version": 3
   },
   "file_extension": ".py",
   "mimetype": "text/x-python",
   "name": "python",
   "nbconvert_exporter": "python",
   "pygments_lexer": "ipython3",
   "version": "3.9.17"
  },
  "orig_nbformat": 4
 },
 "nbformat": 4,
 "nbformat_minor": 2
}
